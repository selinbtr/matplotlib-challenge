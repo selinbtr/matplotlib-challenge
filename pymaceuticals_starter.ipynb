{
 "cells": [
  {
   "cell_type": "markdown",
   "metadata": {},
   "source": [
    "## Observations and Insights"
   ]
  },
  {
   "cell_type": "markdown",
   "metadata": {},
   "source": []
  },
  {
   "cell_type": "markdown",
   "metadata": {},
   "source": [
    "## Dependencies and starter code"
   ]
  },
  {
   "cell_type": "code",
   "execution_count": 97,
   "metadata": {},
   "outputs": [],
   "source": [
    "# Dependencies and Setup\n",
    "import matplotlib.pyplot as plt\n",
    "import pandas as pd\n",
    "import scipy.stats as st\n",
    "import numpy as np\n",
    "\n",
    "# Study data files\n",
    "mouse_metadata = \"data/Mouse_metadata.csv\"\n",
    "study_results = \"data/Study_results.csv\"\n",
    "\n",
    "# Read the mouse data and the study results\n",
    "mouse_metadata = pd.read_csv(mouse_metadata)\n",
    "study_results = pd.read_csv(study_results)\n",
    "\n",
    "# Combine the data into a single dataset\n",
    "combined_data=mouse_metadata.merge(study_results, on=\"Mouse ID\", how=\"outer\")\n"
   ]
  },
  {
   "cell_type": "markdown",
   "metadata": {},
   "source": [
    "## Summary statistics"
   ]
  },
  {
   "cell_type": "code",
   "execution_count": 98,
   "metadata": {},
   "outputs": [
    {
     "data": {
      "text/html": [
       "<div>\n",
       "<style scoped>\n",
       "    .dataframe tbody tr th:only-of-type {\n",
       "        vertical-align: middle;\n",
       "    }\n",
       "\n",
       "    .dataframe tbody tr th {\n",
       "        vertical-align: top;\n",
       "    }\n",
       "\n",
       "    .dataframe thead th {\n",
       "        text-align: right;\n",
       "    }\n",
       "</style>\n",
       "<table border=\"1\" class=\"dataframe\">\n",
       "  <thead>\n",
       "    <tr style=\"text-align: right;\">\n",
       "      <th></th>\n",
       "      <th>Mouse ID</th>\n",
       "      <th>Drug Regimen</th>\n",
       "      <th>Sex</th>\n",
       "      <th>Age_months</th>\n",
       "      <th>Weight (g)</th>\n",
       "    </tr>\n",
       "  </thead>\n",
       "  <tbody>\n",
       "    <tr>\n",
       "      <td>0</td>\n",
       "      <td>k403</td>\n",
       "      <td>Ramicane</td>\n",
       "      <td>Male</td>\n",
       "      <td>21</td>\n",
       "      <td>16</td>\n",
       "    </tr>\n",
       "    <tr>\n",
       "      <td>1</td>\n",
       "      <td>s185</td>\n",
       "      <td>Capomulin</td>\n",
       "      <td>Female</td>\n",
       "      <td>3</td>\n",
       "      <td>17</td>\n",
       "    </tr>\n",
       "    <tr>\n",
       "      <td>2</td>\n",
       "      <td>x401</td>\n",
       "      <td>Capomulin</td>\n",
       "      <td>Female</td>\n",
       "      <td>16</td>\n",
       "      <td>15</td>\n",
       "    </tr>\n",
       "    <tr>\n",
       "      <td>3</td>\n",
       "      <td>m601</td>\n",
       "      <td>Capomulin</td>\n",
       "      <td>Male</td>\n",
       "      <td>22</td>\n",
       "      <td>17</td>\n",
       "    </tr>\n",
       "    <tr>\n",
       "      <td>4</td>\n",
       "      <td>g791</td>\n",
       "      <td>Ramicane</td>\n",
       "      <td>Male</td>\n",
       "      <td>11</td>\n",
       "      <td>16</td>\n",
       "    </tr>\n",
       "  </tbody>\n",
       "</table>\n",
       "</div>"
      ],
      "text/plain": [
       "  Mouse ID Drug Regimen     Sex  Age_months  Weight (g)\n",
       "0     k403     Ramicane    Male          21          16\n",
       "1     s185    Capomulin  Female           3          17\n",
       "2     x401    Capomulin  Female          16          15\n",
       "3     m601    Capomulin    Male          22          17\n",
       "4     g791     Ramicane    Male          11          16"
      ]
     },
     "execution_count": 98,
     "metadata": {},
     "output_type": "execute_result"
    }
   ],
   "source": [
    "#Looking into mouse_metadata\n",
    "mouse_metadata.head()"
   ]
  },
  {
   "cell_type": "code",
   "execution_count": 99,
   "metadata": {},
   "outputs": [
    {
     "data": {
      "text/html": [
       "<div>\n",
       "<style scoped>\n",
       "    .dataframe tbody tr th:only-of-type {\n",
       "        vertical-align: middle;\n",
       "    }\n",
       "\n",
       "    .dataframe tbody tr th {\n",
       "        vertical-align: top;\n",
       "    }\n",
       "\n",
       "    .dataframe thead th {\n",
       "        text-align: right;\n",
       "    }\n",
       "</style>\n",
       "<table border=\"1\" class=\"dataframe\">\n",
       "  <thead>\n",
       "    <tr style=\"text-align: right;\">\n",
       "      <th></th>\n",
       "      <th>Mouse ID</th>\n",
       "      <th>Timepoint</th>\n",
       "      <th>Tumor Volume (mm3)</th>\n",
       "      <th>Metastatic Sites</th>\n",
       "    </tr>\n",
       "  </thead>\n",
       "  <tbody>\n",
       "    <tr>\n",
       "      <td>0</td>\n",
       "      <td>b128</td>\n",
       "      <td>0</td>\n",
       "      <td>45.0</td>\n",
       "      <td>0</td>\n",
       "    </tr>\n",
       "    <tr>\n",
       "      <td>1</td>\n",
       "      <td>f932</td>\n",
       "      <td>0</td>\n",
       "      <td>45.0</td>\n",
       "      <td>0</td>\n",
       "    </tr>\n",
       "    <tr>\n",
       "      <td>2</td>\n",
       "      <td>g107</td>\n",
       "      <td>0</td>\n",
       "      <td>45.0</td>\n",
       "      <td>0</td>\n",
       "    </tr>\n",
       "    <tr>\n",
       "      <td>3</td>\n",
       "      <td>a457</td>\n",
       "      <td>0</td>\n",
       "      <td>45.0</td>\n",
       "      <td>0</td>\n",
       "    </tr>\n",
       "    <tr>\n",
       "      <td>4</td>\n",
       "      <td>c819</td>\n",
       "      <td>0</td>\n",
       "      <td>45.0</td>\n",
       "      <td>0</td>\n",
       "    </tr>\n",
       "  </tbody>\n",
       "</table>\n",
       "</div>"
      ],
      "text/plain": [
       "  Mouse ID  Timepoint  Tumor Volume (mm3)  Metastatic Sites\n",
       "0     b128          0                45.0                 0\n",
       "1     f932          0                45.0                 0\n",
       "2     g107          0                45.0                 0\n",
       "3     a457          0                45.0                 0\n",
       "4     c819          0                45.0                 0"
      ]
     },
     "execution_count": 99,
     "metadata": {},
     "output_type": "execute_result"
    }
   ],
   "source": [
    "#Looking into study_results\n",
    "study_results.head()"
   ]
  },
  {
   "cell_type": "code",
   "execution_count": 100,
   "metadata": {},
   "outputs": [
    {
     "data": {
      "text/html": [
       "<div>\n",
       "<style scoped>\n",
       "    .dataframe tbody tr th:only-of-type {\n",
       "        vertical-align: middle;\n",
       "    }\n",
       "\n",
       "    .dataframe tbody tr th {\n",
       "        vertical-align: top;\n",
       "    }\n",
       "\n",
       "    .dataframe thead th {\n",
       "        text-align: right;\n",
       "    }\n",
       "</style>\n",
       "<table border=\"1\" class=\"dataframe\">\n",
       "  <thead>\n",
       "    <tr style=\"text-align: right;\">\n",
       "      <th></th>\n",
       "      <th>Mouse ID</th>\n",
       "      <th>Drug Regimen</th>\n",
       "      <th>Sex</th>\n",
       "      <th>Age_months</th>\n",
       "      <th>Weight (g)</th>\n",
       "      <th>Timepoint</th>\n",
       "      <th>Volume</th>\n",
       "      <th>Metastatic Sites</th>\n",
       "    </tr>\n",
       "  </thead>\n",
       "  <tbody>\n",
       "    <tr>\n",
       "      <td>0</td>\n",
       "      <td>k403</td>\n",
       "      <td>Ramicane</td>\n",
       "      <td>Male</td>\n",
       "      <td>21</td>\n",
       "      <td>16</td>\n",
       "      <td>0</td>\n",
       "      <td>45.00</td>\n",
       "      <td>0</td>\n",
       "    </tr>\n",
       "    <tr>\n",
       "      <td>1</td>\n",
       "      <td>k403</td>\n",
       "      <td>Ramicane</td>\n",
       "      <td>Male</td>\n",
       "      <td>21</td>\n",
       "      <td>16</td>\n",
       "      <td>5</td>\n",
       "      <td>38.83</td>\n",
       "      <td>0</td>\n",
       "    </tr>\n",
       "    <tr>\n",
       "      <td>2</td>\n",
       "      <td>k403</td>\n",
       "      <td>Ramicane</td>\n",
       "      <td>Male</td>\n",
       "      <td>21</td>\n",
       "      <td>16</td>\n",
       "      <td>10</td>\n",
       "      <td>35.01</td>\n",
       "      <td>1</td>\n",
       "    </tr>\n",
       "    <tr>\n",
       "      <td>3</td>\n",
       "      <td>k403</td>\n",
       "      <td>Ramicane</td>\n",
       "      <td>Male</td>\n",
       "      <td>21</td>\n",
       "      <td>16</td>\n",
       "      <td>15</td>\n",
       "      <td>34.22</td>\n",
       "      <td>1</td>\n",
       "    </tr>\n",
       "    <tr>\n",
       "      <td>4</td>\n",
       "      <td>k403</td>\n",
       "      <td>Ramicane</td>\n",
       "      <td>Male</td>\n",
       "      <td>21</td>\n",
       "      <td>16</td>\n",
       "      <td>20</td>\n",
       "      <td>33.00</td>\n",
       "      <td>1</td>\n",
       "    </tr>\n",
       "    <tr>\n",
       "      <td>...</td>\n",
       "      <td>...</td>\n",
       "      <td>...</td>\n",
       "      <td>...</td>\n",
       "      <td>...</td>\n",
       "      <td>...</td>\n",
       "      <td>...</td>\n",
       "      <td>...</td>\n",
       "      <td>...</td>\n",
       "    </tr>\n",
       "    <tr>\n",
       "      <td>1888</td>\n",
       "      <td>z969</td>\n",
       "      <td>Naftisol</td>\n",
       "      <td>Male</td>\n",
       "      <td>9</td>\n",
       "      <td>30</td>\n",
       "      <td>25</td>\n",
       "      <td>63.15</td>\n",
       "      <td>2</td>\n",
       "    </tr>\n",
       "    <tr>\n",
       "      <td>1889</td>\n",
       "      <td>z969</td>\n",
       "      <td>Naftisol</td>\n",
       "      <td>Male</td>\n",
       "      <td>9</td>\n",
       "      <td>30</td>\n",
       "      <td>30</td>\n",
       "      <td>65.84</td>\n",
       "      <td>3</td>\n",
       "    </tr>\n",
       "    <tr>\n",
       "      <td>1890</td>\n",
       "      <td>z969</td>\n",
       "      <td>Naftisol</td>\n",
       "      <td>Male</td>\n",
       "      <td>9</td>\n",
       "      <td>30</td>\n",
       "      <td>35</td>\n",
       "      <td>69.18</td>\n",
       "      <td>4</td>\n",
       "    </tr>\n",
       "    <tr>\n",
       "      <td>1891</td>\n",
       "      <td>z969</td>\n",
       "      <td>Naftisol</td>\n",
       "      <td>Male</td>\n",
       "      <td>9</td>\n",
       "      <td>30</td>\n",
       "      <td>40</td>\n",
       "      <td>70.31</td>\n",
       "      <td>4</td>\n",
       "    </tr>\n",
       "    <tr>\n",
       "      <td>1892</td>\n",
       "      <td>z969</td>\n",
       "      <td>Naftisol</td>\n",
       "      <td>Male</td>\n",
       "      <td>9</td>\n",
       "      <td>30</td>\n",
       "      <td>45</td>\n",
       "      <td>73.87</td>\n",
       "      <td>4</td>\n",
       "    </tr>\n",
       "  </tbody>\n",
       "</table>\n",
       "<p>1893 rows × 8 columns</p>\n",
       "</div>"
      ],
      "text/plain": [
       "     Mouse ID Drug Regimen   Sex  Age_months  Weight (g)  Timepoint  Volume  \\\n",
       "0        k403     Ramicane  Male          21          16          0   45.00   \n",
       "1        k403     Ramicane  Male          21          16          5   38.83   \n",
       "2        k403     Ramicane  Male          21          16         10   35.01   \n",
       "3        k403     Ramicane  Male          21          16         15   34.22   \n",
       "4        k403     Ramicane  Male          21          16         20   33.00   \n",
       "...       ...          ...   ...         ...         ...        ...     ...   \n",
       "1888     z969     Naftisol  Male           9          30         25   63.15   \n",
       "1889     z969     Naftisol  Male           9          30         30   65.84   \n",
       "1890     z969     Naftisol  Male           9          30         35   69.18   \n",
       "1891     z969     Naftisol  Male           9          30         40   70.31   \n",
       "1892     z969     Naftisol  Male           9          30         45   73.87   \n",
       "\n",
       "      Metastatic Sites  \n",
       "0                    0  \n",
       "1                    0  \n",
       "2                    1  \n",
       "3                    1  \n",
       "4                    1  \n",
       "...                ...  \n",
       "1888                 2  \n",
       "1889                 3  \n",
       "1890                 4  \n",
       "1891                 4  \n",
       "1892                 4  \n",
       "\n",
       "[1893 rows x 8 columns]"
      ]
     },
     "execution_count": 100,
     "metadata": {},
     "output_type": "execute_result"
    }
   ],
   "source": [
    "#Looking into merged dataset\n",
    "combined_data=round(combined_data,2)\n",
    "\n",
    "combined_data=pd.DataFrame(combined_data)\n",
    "combined_data=combined_data.rename(columns={\"Tumor Volume (mm3)\":\"Volume\"})\n",
    "combined_data"
   ]
  },
  {
   "cell_type": "code",
   "execution_count": 101,
   "metadata": {},
   "outputs": [
    {
     "data": {
      "text/html": [
       "<div>\n",
       "<style scoped>\n",
       "    .dataframe tbody tr th:only-of-type {\n",
       "        vertical-align: middle;\n",
       "    }\n",
       "\n",
       "    .dataframe tbody tr th {\n",
       "        vertical-align: top;\n",
       "    }\n",
       "\n",
       "    .dataframe thead th {\n",
       "        text-align: right;\n",
       "    }\n",
       "</style>\n",
       "<table border=\"1\" class=\"dataframe\">\n",
       "  <thead>\n",
       "    <tr style=\"text-align: right;\">\n",
       "      <th></th>\n",
       "      <th>Mean</th>\n",
       "      <th>Median</th>\n",
       "      <th>Var</th>\n",
       "      <th>Std</th>\n",
       "      <th>SEM</th>\n",
       "    </tr>\n",
       "    <tr>\n",
       "      <th>Drug Regimen</th>\n",
       "      <th></th>\n",
       "      <th></th>\n",
       "      <th></th>\n",
       "      <th></th>\n",
       "      <th></th>\n",
       "    </tr>\n",
       "  </thead>\n",
       "  <tbody>\n",
       "    <tr>\n",
       "      <td>Capomulin</td>\n",
       "      <td>40.675652</td>\n",
       "      <td>41.555</td>\n",
       "      <td>24.946279</td>\n",
       "      <td>4.994625</td>\n",
       "      <td>0.329336</td>\n",
       "    </tr>\n",
       "    <tr>\n",
       "      <td>Ceftamin</td>\n",
       "      <td>52.591011</td>\n",
       "      <td>51.775</td>\n",
       "      <td>39.288197</td>\n",
       "      <td>6.268030</td>\n",
       "      <td>0.469809</td>\n",
       "    </tr>\n",
       "    <tr>\n",
       "      <td>Infubinol</td>\n",
       "      <td>52.884663</td>\n",
       "      <td>51.820</td>\n",
       "      <td>43.130778</td>\n",
       "      <td>6.567403</td>\n",
       "      <td>0.492248</td>\n",
       "    </tr>\n",
       "    <tr>\n",
       "      <td>Ketapril</td>\n",
       "      <td>55.235745</td>\n",
       "      <td>53.700</td>\n",
       "      <td>68.555078</td>\n",
       "      <td>8.279799</td>\n",
       "      <td>0.603866</td>\n",
       "    </tr>\n",
       "    <tr>\n",
       "      <td>Naftisol</td>\n",
       "      <td>54.331720</td>\n",
       "      <td>52.505</td>\n",
       "      <td>66.173728</td>\n",
       "      <td>8.134724</td>\n",
       "      <td>0.596467</td>\n",
       "    </tr>\n",
       "    <tr>\n",
       "      <td>Placebo</td>\n",
       "      <td>54.033591</td>\n",
       "      <td>52.290</td>\n",
       "      <td>61.166371</td>\n",
       "      <td>7.820893</td>\n",
       "      <td>0.581322</td>\n",
       "    </tr>\n",
       "    <tr>\n",
       "      <td>Propriva</td>\n",
       "      <td>52.322484</td>\n",
       "      <td>50.850</td>\n",
       "      <td>42.349673</td>\n",
       "      <td>6.507663</td>\n",
       "      <td>0.512876</td>\n",
       "    </tr>\n",
       "    <tr>\n",
       "      <td>Ramicane</td>\n",
       "      <td>40.216974</td>\n",
       "      <td>40.675</td>\n",
       "      <td>23.487770</td>\n",
       "      <td>4.846418</td>\n",
       "      <td>0.320962</td>\n",
       "    </tr>\n",
       "    <tr>\n",
       "      <td>Stelasyn</td>\n",
       "      <td>54.233039</td>\n",
       "      <td>52.430</td>\n",
       "      <td>59.450545</td>\n",
       "      <td>7.710418</td>\n",
       "      <td>0.573111</td>\n",
       "    </tr>\n",
       "    <tr>\n",
       "      <td>Zoniferol</td>\n",
       "      <td>53.236209</td>\n",
       "      <td>51.820</td>\n",
       "      <td>48.531626</td>\n",
       "      <td>6.966464</td>\n",
       "      <td>0.516389</td>\n",
       "    </tr>\n",
       "  </tbody>\n",
       "</table>\n",
       "</div>"
      ],
      "text/plain": [
       "                   Mean  Median        Var       Std       SEM\n",
       "Drug Regimen                                                  \n",
       "Capomulin     40.675652  41.555  24.946279  4.994625  0.329336\n",
       "Ceftamin      52.591011  51.775  39.288197  6.268030  0.469809\n",
       "Infubinol     52.884663  51.820  43.130778  6.567403  0.492248\n",
       "Ketapril      55.235745  53.700  68.555078  8.279799  0.603866\n",
       "Naftisol      54.331720  52.505  66.173728  8.134724  0.596467\n",
       "Placebo       54.033591  52.290  61.166371  7.820893  0.581322\n",
       "Propriva      52.322484  50.850  42.349673  6.507663  0.512876\n",
       "Ramicane      40.216974  40.675  23.487770  4.846418  0.320962\n",
       "Stelasyn      54.233039  52.430  59.450545  7.710418  0.573111\n",
       "Zoniferol     53.236209  51.820  48.531626  6.966464  0.516389"
      ]
     },
     "execution_count": 101,
     "metadata": {},
     "output_type": "execute_result"
    }
   ],
   "source": [
    "#Generate a summary statistics table of mean, median, variance, \n",
    "#standard deviation, \n",
    "#and SEM of the tumor volume for each regimen\n",
    "#summary_table=combined_data[[\"Drug Regimen\",\"Tumor Volume (mm3)\"]].groupby('Drug Regimen').agg(\n",
    " #   {\"Tumor Volume (mm3)\":[np.mean,np.median,np.var,np.std,st.sem]}).reset_index()\n",
    "\n",
    "df=pd.DataFrame({\"Mean\":combined_data.groupby(\"Drug Regimen\")[\"Volume\"].agg(np.mean),\n",
    "\"Median\":combined_data.groupby(\"Drug Regimen\")[\"Volume\"].agg(np.median),\n",
    "\"Var\":combined_data.groupby(\"Drug Regimen\")[\"Volume\"].agg(np.var),\n",
    "\"Std\":combined_data.groupby(\"Drug Regimen\")[\"Volume\"].agg(np.std),\n",
    "\"SEM\":combined_data.groupby(\"Drug Regimen\")[\"Volume\"].agg(st.sem)})\n",
    "df"
   ]
  },
  {
   "cell_type": "markdown",
   "metadata": {},
   "source": [
    "## Bar plots"
   ]
  },
  {
   "cell_type": "code",
   "execution_count": 102,
   "metadata": {},
   "outputs": [],
   "source": [
    "df=df.reset_index()"
   ]
  },
  {
   "cell_type": "code",
   "execution_count": 171,
   "metadata": {},
   "outputs": [
    {
     "data": {
      "text/plain": [
       "Text(0.5, 1.0, 'Data points for Drug Regimen')"
      ]
     },
     "execution_count": 171,
     "metadata": {},
     "output_type": "execute_result"
    },
    {
     "data": {
      "image/png": "[encoded data removed]",
      "text/plain": [
       "<Figure size 432x288 with 5 Axes>"
      ]
     },
     "metadata": {
      "needs_background": "light"
     },
     "output_type": "display_data"
    }
   ],
   "source": [
    "# Generate a bar plot showing number of data points for each treatment regimen using pandas\n",
    "df1=df[[\"Drug Regimen\",\"Mean\"]]\n",
    "df2=df[[\"Drug Regimen\",\"Median\"]]\n",
    "df3=df[[\"Drug Regimen\",\"Var\"]]\n",
    "df4=df[[\"Drug Regimen\",\"Std\"]]\n",
    "df5=df[[\"Drug Regimen\",\"SEM\"]]\n",
    "fig,(ax1,ax2,ax3,ax4,ax5)=plt.subplots(5,sharex=True)\n",
    "df1.plot(kind='bar',ax=ax1, legend=False)\n",
    "df2.plot(kind='bar',ax=ax2, legend=False)\n",
    "df3.plot(kind='bar',ax=ax3, legend=False)\n",
    "df4.plot(kind='bar',ax=ax4, legend=False)\n",
    "df5.plot(kind='bar',ax=ax5, legend=False)\n",
    "\n",
    "#ax1.legend(loc='upper left', frameon=False)\n",
    "ax5.set_xticklabels(df[\"Drug Regimen\"])\n",
    "\n",
    "ax5.set_xlabel(\"Drug Regimen\")\n",
    "\n",
    "ax1.set_ylabel(\"Mean\")\n",
    "ax2.set_ylabel(\"Median\")\n",
    "ax3.set_ylabel(\"Var\")\n",
    "ax4.set_ylabel(\"Std\")\n",
    "ax5.set_ylabel(\"SEM\")\n",
    "\n",
    "ax1.set_title(\"Data points for Drug Regimen\")"
   ]
  },
  {
   "cell_type": "code",
   "execution_count": 140,
   "metadata": {},
   "outputs": [
    {
     "data": {
      "image/png": "[encoded data removed]",
      "text/plain": [
       "<Figure size 432x288 with 5 Axes>"
      ]
     },
     "metadata": {
      "needs_background": "light"
     },
     "output_type": "display_data"
    }
   ],
   "source": [
    "# Generate a bar plot showing number of data points for each treatment regimen using pyplot\n",
    "x_value=df[\"Drug Regimen\"]\n",
    "fig,(ax1,ax2,ax3,ax4,ax5)=plt.subplots(5,sharex=True)\n",
    "ax1.bar(x_value,df[\"Mean\"])\n",
    "ax2.bar(x_value,df[\"Median\"])\n",
    "ax3.bar(x_value,df[\"Var\"])\n",
    "ax4.bar(x_value,df[\"Std\"])\n",
    "ax5.bar(x_value,df[\"SEM\"])\n",
    "plt.xticks(x_value,rotation=90)\n",
    "ax5.set_xlabel(\"Drug Regimen\")\n",
    "ax1.set_ylabel(\"Mean\")\n",
    "ax2.set_ylabel(\"Median\")\n",
    "ax3.set_ylabel(\"Var\")\n",
    "ax4.set_ylabel(\"Std\")\n",
    "ax5.set_ylabel(\"SEM\")\n",
    "ax1.set_title(\"Data points for Drug Regimen\")\n",
    "plt.show()"
   ]
  },
  {
   "cell_type": "markdown",
   "metadata": {},
   "source": [
    "## Pie plots"
   ]
  },
  {
   "cell_type": "code",
   "execution_count": 128,
   "metadata": {},
   "outputs": [
    {
     "data": {
      "text/plain": [
       "<matplotlib.axes._subplots.AxesSubplot at 0x22296d48f88>"
      ]
     },
     "execution_count": 128,
     "metadata": {},
     "output_type": "execute_result"
    },
    {
     "data": {
      "image/png": "[encoded data removed]",
      "text/plain": [
       "<Figure size 432x288 with 1 Axes>"
      ]
     },
     "metadata": {},
     "output_type": "display_data"
    }
   ],
   "source": [
    "# Generate a pie plot showing the distribution of female versus male \n",
    "#mice using pandas\n",
    "data=combined_data.groupby(\"Sex\").Sex.count()\n",
    "labels=data.keys()\n",
    "data.plot(kind=\"pie\", labels=labels,autopct=\"%1.0f%%\", title=\"Female vs Male Mice\")\n"
   ]
  },
  {
   "cell_type": "code",
   "execution_count": 126,
   "metadata": {},
   "outputs": [
    {
     "data": {
      "text/plain": [
       "Text(0.5, 1.0, 'Female vs Male Mice')"
      ]
     },
     "execution_count": 126,
     "metadata": {},
     "output_type": "execute_result"
    },
    {
     "data": {
      "image/png": "[encoded data removed]",
      "text/plain": [
       "<Figure size 432x288 with 1 Axes>"
      ]
     },
     "metadata": {},
     "output_type": "display_data"
    }
   ],
   "source": [
    "# Generate a pie plot showing the distribution of female versus male \n",
    "#mice using pyplot\n",
    "data=combined_data.groupby(\"Sex\").Sex.count()\n",
    "labels=data.keys()\n",
    "plt.pie(data,labels=labels,autopct=\"%1.0f%%\")\n",
    "plt.title(\"Female vs Male Mice\")"
   ]
  },
  {
   "cell_type": "markdown",
   "metadata": {},
   "source": [
    "## Quartiles, outliers and boxplots"
   ]
  },
  {
   "cell_type": "code",
   "execution_count": 220,
   "metadata": {},
   "outputs": [
    {
     "name": "stdout",
     "output_type": "stream",
     "text": [
      "The lower quartile is:               Volume\n",
      "Drug Regimen         \n",
      "Capomulin     37.6850\n",
      "Ceftamin      47.2100\n",
      "Infubinol     47.3125\n",
      "Ramicane      36.6725\n",
      "\n",
      "The upper quartile is:               Volume\n",
      "Drug Regimen        \n",
      "Capomulin     45.000\n",
      "Ceftamin      56.800\n",
      "Infubinol     57.315\n",
      "Ramicane      45.000\n",
      "\n",
      "The interquartile range is:                Volume\n",
      "Drug Regimen         \n",
      "Capomulin      7.3150\n",
      "Ceftamin       9.5900\n",
      "Infubinol     10.0025\n",
      "Ramicane       8.3275\n",
      "\n",
      "The median is:               Volume\n",
      "Drug Regimen        \n",
      "Capomulin     41.555\n",
      "Ceftamin      51.775\n",
      "Infubinol     51.820\n",
      "Ramicane      40.675\n",
      " \n",
      "The lower bound is:                 Volume\n",
      "Drug Regimen          \n",
      "Capomulin     26.71250\n",
      "Ceftamin      32.82500\n",
      "Infubinol     32.30875\n",
      "Ramicane      24.18125\n",
      " \n",
      "The upper bound is:                 Volume\n",
      "Drug Regimen          \n",
      "Capomulin     55.97250\n",
      "Ceftamin      71.18500\n",
      "Infubinol     72.31875\n",
      "Ramicane      57.49125\n",
      "\n",
      " \n",
      "THERE ARE OUTLIERS!\n"
     ]
    }
   ],
   "source": [
    "# Calculate the final tumor volume of each mouse across four of the \n",
    "#most promising treatment regimens. Calculate the IQR and quantitatively determine if there are any potential outliers. \n",
    "df_boxplot=combined_data[[\"Drug Regimen\",\"Volume\"]].loc[(combined_data[\"Drug Regimen\"]==\"Capomulin\")| \n",
    "                                                                     (combined_data[\"Drug Regimen\"]==\"Ramicane\")| \n",
    "                                                                     (combined_data[\"Drug Regimen\"]==\"Infubinol\")| \n",
    "                                                                     (combined_data[\"Drug Regimen\"]==\"Ceftamin\")]\n",
    "quantile_100=df_boxplot.groupby(\"Drug Regimen\").quantile(0.1)\n",
    "quantile_25=df_boxplot.groupby(\"Drug Regimen\").quantile(0.25)\n",
    "quantile_75=df_boxplot.groupby(\"Drug Regimen\").quantile(0.75)\n",
    "quantile_50=df_boxplot.groupby(\"Drug Regimen\").quantile(0.50)\n",
    "\n",
    "max_vol=df_boxplot.groupby(\"Drug Regimen\").max()\n",
    "min_vol=df_boxplot.groupby(\"Drug Regimen\").min()\n",
    "\n",
    "lowerq=quantile_25\n",
    "upperq=quantile_75\n",
    "iqr=upperq-lowerq\n",
    "\n",
    "lower_bound=lowerq-(1.5*iqr)\n",
    "upper_bound=upperq+(1.5*iqr)\n",
    "\n",
    "print(f\"The lower quartile is:{lowerq}\\n\")\n",
    "print(f\"The upper quartile is: {upperq}\\n\")\n",
    "print(f\"The interquartile range is: {iqr}\\n\")\n",
    "print(f\"The median is: {quantile_50}\\n \")\n",
    "print(f\"The lower bound is: {lower_bound}\\n \")\n",
    "print(f\"The upper bound is: {upper_bound}\\n\\n \")\n",
    "\n",
    "#outlier check\n",
    "check=(min_vol-lower_bound).sum()+(max_vol-upper_bound).sum()\n",
    "if check[0]!=0:\n",
    "    print(\"THERE ARE OUTLIERS!\")\n"
   ]
  },
  {
   "cell_type": "code",
   "execution_count": 208,
   "metadata": {},
   "outputs": [
    {
     "data": {
      "text/plain": [
       "Text(0.5, 1.0, 'Drug Regimen vs Tumor Volume')"
      ]
     },
     "execution_count": 208,
     "metadata": {},
     "output_type": "execute_result"
    },
    {
     "data": {
      "image/png": "[encoded data removed]",
      "text/plain": [
       "<Figure size 648x432 with 1 Axes>"
      ]
     },
     "metadata": {
      "needs_background": "light"
     },
     "output_type": "display_data"
    }
   ],
   "source": [
    "# green_diamond = dict(markerfacecolor='g', marker='D')\n",
    "\n",
    "# Generate a box plot of the final tumor volume of each mouse across four regimens of interest\n",
    "\n",
    "collectn_1=df_boxplot[\"Volume\"].loc[(combined_data[\"Drug Regimen\"]==\"Capomulin\")]\n",
    "collectn_2=df_boxplot[\"Volume\"].loc[(combined_data[\"Drug Regimen\"]==\"Ceftamin\")]\n",
    "collectn_3=df_boxplot[\"Volume\"].loc[(combined_data[\"Drug Regimen\"]==\"Infubinol\")]\n",
    "collectn_4=df_boxplot[\"Volume\"].loc[(combined_data[\"Drug Regimen\"]==\"Ramicane\")]\n",
    "\n",
    "data_to_plot = [collectn_1, collectn_2, collectn_3, collectn_4]\n",
    "\n",
    "# Create a figure instance\n",
    "fig = plt.figure(1, figsize=(9, 6))\n",
    "\n",
    "# Create an axes instance\n",
    "ax = fig.add_subplot(111)\n",
    "\n",
    "# Create the boxplot\n",
    "bp = ax.boxplot(data_to_plot, flierprops=green_diamond)\n",
    "\n",
    "## Custom x-axis labels\n",
    "ax.set_xticklabels(['Capomulin', 'Ceftamin', 'Infubinol', 'Ramicane'])\n",
    "\n",
    "ax.set_xlabel(\"Drug Regimen\")\n",
    "ax.set_ylabel(\"Tumor Volume\")\n",
    "ax.set_title(\"Drug Regimen vs Tumor Volume\")\n",
    "\n"
   ]
  },
  {
   "cell_type": "markdown",
   "metadata": {},
   "source": [
    "## Line and scatter plots"
   ]
  },
  {
   "cell_type": "code",
   "execution_count": 22,
   "metadata": {},
   "outputs": [
    {
     "data": {
      "text/html": [
       "<div>\n",
       "<style scoped>\n",
       "    .dataframe tbody tr th:only-of-type {\n",
       "        vertical-align: middle;\n",
       "    }\n",
       "\n",
       "    .dataframe tbody tr th {\n",
       "        vertical-align: top;\n",
       "    }\n",
       "\n",
       "    .dataframe thead th {\n",
       "        text-align: right;\n",
       "    }\n",
       "</style>\n",
       "<table border=\"1\" class=\"dataframe\">\n",
       "  <thead>\n",
       "    <tr style=\"text-align: right;\">\n",
       "      <th></th>\n",
       "      <th>Mouse ID</th>\n",
       "      <th>Drug Regimen</th>\n",
       "      <th>Sex</th>\n",
       "      <th>Age_months</th>\n",
       "      <th>Weight (g)</th>\n",
       "      <th>Timepoint</th>\n",
       "      <th>Tumor Volume (mm3)</th>\n",
       "      <th>Metastatic Sites</th>\n",
       "    </tr>\n",
       "  </thead>\n",
       "  <tbody>\n",
       "    <tr>\n",
       "      <td>0</td>\n",
       "      <td>k403</td>\n",
       "      <td>Ramicane</td>\n",
       "      <td>Male</td>\n",
       "      <td>21</td>\n",
       "      <td>16</td>\n",
       "      <td>0</td>\n",
       "      <td>45.00</td>\n",
       "      <td>0</td>\n",
       "    </tr>\n",
       "    <tr>\n",
       "      <td>1</td>\n",
       "      <td>k403</td>\n",
       "      <td>Ramicane</td>\n",
       "      <td>Male</td>\n",
       "      <td>21</td>\n",
       "      <td>16</td>\n",
       "      <td>5</td>\n",
       "      <td>38.83</td>\n",
       "      <td>0</td>\n",
       "    </tr>\n",
       "    <tr>\n",
       "      <td>2</td>\n",
       "      <td>k403</td>\n",
       "      <td>Ramicane</td>\n",
       "      <td>Male</td>\n",
       "      <td>21</td>\n",
       "      <td>16</td>\n",
       "      <td>10</td>\n",
       "      <td>35.01</td>\n",
       "      <td>1</td>\n",
       "    </tr>\n",
       "    <tr>\n",
       "      <td>3</td>\n",
       "      <td>k403</td>\n",
       "      <td>Ramicane</td>\n",
       "      <td>Male</td>\n",
       "      <td>21</td>\n",
       "      <td>16</td>\n",
       "      <td>15</td>\n",
       "      <td>34.22</td>\n",
       "      <td>1</td>\n",
       "    </tr>\n",
       "    <tr>\n",
       "      <td>4</td>\n",
       "      <td>k403</td>\n",
       "      <td>Ramicane</td>\n",
       "      <td>Male</td>\n",
       "      <td>21</td>\n",
       "      <td>16</td>\n",
       "      <td>20</td>\n",
       "      <td>33.00</td>\n",
       "      <td>1</td>\n",
       "    </tr>\n",
       "  </tbody>\n",
       "</table>\n",
       "</div>"
      ],
      "text/plain": [
       "  Mouse ID Drug Regimen   Sex  Age_months  Weight (g)  Timepoint  \\\n",
       "0     k403     Ramicane  Male          21          16          0   \n",
       "1     k403     Ramicane  Male          21          16          5   \n",
       "2     k403     Ramicane  Male          21          16         10   \n",
       "3     k403     Ramicane  Male          21          16         15   \n",
       "4     k403     Ramicane  Male          21          16         20   \n",
       "\n",
       "   Tumor Volume (mm3)  Metastatic Sites  \n",
       "0               45.00                 0  \n",
       "1               38.83                 0  \n",
       "2               35.01                 1  \n",
       "3               34.22                 1  \n",
       "4               33.00                 1  "
      ]
     },
     "execution_count": 22,
     "metadata": {},
     "output_type": "execute_result"
    }
   ],
   "source": [
    "combined_data.head()"
   ]
  },
  {
   "cell_type": "code",
   "execution_count": 92,
   "metadata": {},
   "outputs": [
    {
     "data": {
      "text/plain": [
       "Text(0.5, 1.0, 'Time Point vs Tumor Volume')"
      ]
     },
     "execution_count": 92,
     "metadata": {},
     "output_type": "execute_result"
    },
    {
     "data": {
      "image/png": "[encoded data removed]",
      "text/plain": [
       "<Figure size 432x288 with 1 Axes>"
      ]
     },
     "metadata": {
      "needs_background": "light"
     },
     "output_type": "display_data"
    }
   ],
   "source": [
    "# Generate a line plot of time point versus tumor volume for a mouse \n",
    "#treated with Capomulin\n",
    "\n",
    "mouse=\"i557\"\n",
    "time_vs_tumor=combined_data[[\"Timepoint\",\"Volume\"]].loc[(combined_data[\"Drug Regimen\"]==\"Capomulin\") & \n",
    "    (combined_data[\"Mouse ID\"]==mouse)]\n",
    "plt.plot(time_vs_tumor[\"Timepoint\"],time_vs_tumor[\"Volume\"])\n",
    "plt.xlabel('Time point')\n",
    "plt.ylabel('Tumor Volume')\n",
    "plt.title('Time Point vs Tumor Volume')\n"
   ]
  },
  {
   "cell_type": "code",
   "execution_count": 89,
   "metadata": {},
   "outputs": [
    {
     "data": {
      "text/plain": [
       "Text(0.5, 1.0, 'Mouse Weight vs Avg Tumor Volume')"
      ]
     },
     "execution_count": 89,
     "metadata": {},
     "output_type": "execute_result"
    },
    {
     "data": {
      "image/png": "[encoded data removed]",
      "text/plain": [
       "<Figure size 432x288 with 1 Axes>"
      ]
     },
     "metadata": {
      "needs_background": "light"
     },
     "output_type": "display_data"
    }
   ],
   "source": [
    "# Generate a scatter plot of mouse weight versus average tumor volume \n",
    "#for the Capomulin regimen\n",
    "\n",
    "weight_vs_avgtumor=combined_data[[\"Weight (g)\",\"Volume\"]].loc[\n",
    "    (combined_data[\"Drug Regimen\"]==\"Capomulin\")]\n",
    "weight_vs_avgtumor=weight_vs_avgtumor.groupby(\"Weight (g)\").Volume.mean()\n",
    "weight_vs_avgtumor=pd.DataFrame(weight_vs_avgtumor).reset_index()\n",
    "\n",
    "x=weight_vs_avgtumor.iloc[:,0]\n",
    "y=weight_vs_avgtumor.iloc[:,1]\n",
    "\n",
    "plt.scatter(x,y)\n",
    "\n",
    "plt.xlabel('Weight')\n",
    "plt.ylabel('Tumor Volume')\n",
    "plt.title('Mouse Weight vs Avg Tumor Volume')"
   ]
  },
  {
   "cell_type": "code",
   "execution_count": 90,
   "metadata": {},
   "outputs": [
    {
     "data": {
      "text/plain": [
       "Text(0.5, 1.0, 'Mouse Weight vs Avg Tumor Volume')"
      ]
     },
     "execution_count": 90,
     "metadata": {},
     "output_type": "execute_result"
    },
    {
     "data": {
      "image/png": "[encoded data removed]",
      "text/plain": [
       "<Figure size 432x288 with 1 Axes>"
      ]
     },
     "metadata": {
      "needs_background": "light"
     },
     "output_type": "display_data"
    }
   ],
   "source": [
    "# Calculate the correlation coefficient and linear regression model for \n",
    "#mouse weight and average tumor volume for the Capomulin regimen\n",
    "\n",
    "# Perform a linear regression \n",
    "(slope,a_int,r,p,std_err)=st.linregress(x,y)\n",
    "\n",
    "# Create equation of line\n",
    "fit=slope*x+a_int\n",
    "\n",
    "# Plot the linear model on top of scatter plot \n",
    "\n",
    "plt.scatter(x,y)\n",
    "plt.plot(x,fit,\"--\")\n",
    "plt.xlabel('Weight')\n",
    "plt.ylabel('Tumor Volume')\n",
    "plt.title('Mouse Weight vs Avg Tumor Volume')"
   ]
  },
  {
   "cell_type": "code",
   "execution_count": null,
   "metadata": {},
   "outputs": [],
   "source": []
  }
 ],
 "metadata": {
  "anaconda-cloud": {},
  "kernelspec": {
   "display_name": "Python 3",
   "language": "python",
   "name": "python3"
  },
  "language_info": {
   "codemirror_mode": {
    "name": "ipython",
    "version": 3
   },
   "file_extension": ".py",
   "mimetype": "text/x-python",
   "name": "python",
   "nbconvert_exporter": "python",
   "pygments_lexer": "ipython3",
   "version": "3.7.4"
  }
 },
 "nbformat": 4,
 "nbformat_minor": 2
}
